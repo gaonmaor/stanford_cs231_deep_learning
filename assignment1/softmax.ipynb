{
 "cells": [
  {
   "cell_type": "markdown",
   "metadata": {},
   "source": [
    "# Softmax exercise\n",
    "\n",
    "*Complete and hand in this completed worksheet (including its outputs and any supporting code outside of the worksheet) with your assignment submission. For more details see the [assignments page](http://vision.stanford.edu/teaching/cs231n/assignments.html) on the course website.*\n",
    "\n",
    "This exercise is analogous to the SVM exercise. You will:\n",
    "\n",
    "- implement a fully-vectorized **loss function** for the Softmax classifier\n",
    "- implement the fully-vectorized expression for its **analytic gradient**\n",
    "- **check your implementation** with numerical gradient\n",
    "- use a validation set to **tune the learning rate and regularization** strength\n",
    "- **optimize** the loss function with **SGD**\n",
    "- **visualize** the final learned weights\n"
   ]
  },
  {
   "cell_type": "code",
   "execution_count": 1,
   "metadata": {
    "collapsed": false
   },
   "outputs": [],
   "source": [
    "import random\n",
    "import numpy as np\n",
    "from cs231n.data_utils import load_CIFAR10\n",
    "import matplotlib.pyplot as plt\n",
    "%matplotlib inline\n",
    "plt.rcParams['figure.figsize'] = (10.0, 8.0) # set default size of plots\n",
    "plt.rcParams['image.interpolation'] = 'nearest'\n",
    "plt.rcParams['image.cmap'] = 'gray'\n",
    "\n",
    "# for auto-reloading extenrnal modules\n",
    "# see http://stackoverflow.com/questions/1907993/autoreload-of-modules-in-ipython\n",
    "%load_ext autoreload\n",
    "%autoreload 2"
   ]
  },
  {
   "cell_type": "code",
   "execution_count": 2,
   "metadata": {
    "collapsed": false
   },
   "outputs": [
    {
     "name": "stdout",
     "output_type": "stream",
     "text": [
      "Train data shape:  (49000L, 3073L)\n",
      "Train labels shape:  (49000L,)\n",
      "Validation data shape:  (1000L, 3073L)\n",
      "Validation labels shape:  (1000L,)\n",
      "Test data shape:  (1000L, 3073L)\n",
      "Test labels shape:  (1000L,)\n",
      "dev data shape:  (500L, 3073L)\n",
      "dev labels shape:  (500L,)\n"
     ]
    }
   ],
   "source": [
    "def get_CIFAR10_data(num_training=49000, num_validation=1000, num_test=1000, num_dev=500):\n",
    "  \"\"\"\n",
    "  Load the CIFAR-10 dataset from disk and perform preprocessing to prepare\n",
    "  it for the linear classifier. These are the same steps as we used for the\n",
    "  SVM, but condensed to a single function.  \n",
    "  \"\"\"\n",
    "  # Load the raw CIFAR-10 data\n",
    "  cifar10_dir = 'cs231n/datasets/cifar-10-batches-py'\n",
    "  X_train, y_train, X_test, y_test = load_CIFAR10(cifar10_dir)\n",
    "  \n",
    "  # subsample the data\n",
    "  mask = range(num_training, num_training + num_validation)\n",
    "  X_val = X_train[mask]\n",
    "  y_val = y_train[mask]\n",
    "  mask = range(num_training)\n",
    "  X_train = X_train[mask]\n",
    "  y_train = y_train[mask]\n",
    "  mask = range(num_test)\n",
    "  X_test = X_test[mask]\n",
    "  y_test = y_test[mask]\n",
    "  mask = np.random.choice(num_training, num_dev, replace=False)\n",
    "  X_dev = X_train[mask]\n",
    "  y_dev = y_train[mask]\n",
    "  \n",
    "  # Preprocessing: reshape the image data into rows\n",
    "  X_train = np.reshape(X_train, (X_train.shape[0], -1))\n",
    "  X_val = np.reshape(X_val, (X_val.shape[0], -1))\n",
    "  X_test = np.reshape(X_test, (X_test.shape[0], -1))\n",
    "  X_dev = np.reshape(X_dev, (X_dev.shape[0], -1))\n",
    "  \n",
    "  # Normalize the data: subtract the mean image\n",
    "  mean_image = np.mean(X_train, axis = 0)\n",
    "  X_train -= mean_image\n",
    "  X_val -= mean_image\n",
    "  X_test -= mean_image\n",
    "  X_dev -= mean_image\n",
    "  \n",
    "  # add bias dimension and transform into columns\n",
    "  X_train = np.hstack([X_train, np.ones((X_train.shape[0], 1))])\n",
    "  X_val = np.hstack([X_val, np.ones((X_val.shape[0], 1))])\n",
    "  X_test = np.hstack([X_test, np.ones((X_test.shape[0], 1))])\n",
    "  X_dev = np.hstack([X_dev, np.ones((X_dev.shape[0], 1))])\n",
    "  \n",
    "  return X_train, y_train, X_val, y_val, X_test, y_test, X_dev, y_dev\n",
    "\n",
    "\n",
    "# Invoke the above function to get our data.\n",
    "X_train, y_train, X_val, y_val, X_test, y_test, X_dev, y_dev = get_CIFAR10_data()\n",
    "print 'Train data shape: ', X_train.shape\n",
    "print 'Train labels shape: ', y_train.shape\n",
    "print 'Validation data shape: ', X_val.shape\n",
    "print 'Validation labels shape: ', y_val.shape\n",
    "print 'Test data shape: ', X_test.shape\n",
    "print 'Test labels shape: ', y_test.shape\n",
    "print 'dev data shape: ', X_dev.shape\n",
    "print 'dev labels shape: ', y_dev.shape"
   ]
  },
  {
   "cell_type": "markdown",
   "metadata": {},
   "source": [
    "## Softmax Classifier\n",
    "\n",
    "Your code for this section will all be written inside **cs231n/classifiers/softmax.py**. \n"
   ]
  },
  {
   "cell_type": "code",
   "execution_count": 144,
   "metadata": {
    "collapsed": false
   },
   "outputs": [
    {
     "name": "stdout",
     "output_type": "stream",
     "text": [
      "loss: 2.389728\n",
      "sanity check: 2.302585\n"
     ]
    }
   ],
   "source": [
    "# First implement the naive softmax loss function with nested loops.\n",
    "# Open the file cs231n/classifiers/softmax.py and implement the\n",
    "# softmax_loss_naive function.\n",
    "\n",
    "from cs231n.classifiers.softmax import softmax_loss_naive\n",
    "import time\n",
    "\n",
    "# Generate a random softmax weight matrix and use it to compute the loss.\n",
    "W = np.random.randn(3073, 10) * 0.0001\n",
    "loss, grad = softmax_loss_naive(W, X_dev, y_dev, 0.0)\n",
    "\n",
    "# As a rough sanity check, our loss should be something close to -log(0.1).\n",
    "print 'loss: %f' % loss\n",
    "print 'sanity check: %f' % (-np.log(0.1))"
   ]
  },
  {
   "cell_type": "markdown",
   "metadata": {},
   "source": [
    "## Inline Question 1:\n",
    "Why do we expect our loss to be close to -log(0.1)? Explain briefly.**\n",
    "\n",
    "**Your answer:** *Fill this in*\n"
   ]
  },
  {
   "cell_type": "code",
   "execution_count": 122,
   "metadata": {
    "collapsed": false
   },
   "outputs": [
    {
     "name": "stdout",
     "output_type": "stream",
     "text": [
      "numerical: -1.528600 analytic: -1.528600, relative error: 5.090122e-08\n",
      "numerical: 1.091787 analytic: 1.091787, relative error: 6.772406e-08\n",
      "numerical: 0.461956 analytic: 0.461956, relative error: 1.756981e-07\n",
      "numerical: 2.378075 analytic: 2.378075, relative error: 1.291312e-08\n",
      "numerical: 0.581107 analytic: 0.581107, relative error: 4.669566e-08\n",
      "numerical: -0.771697 analytic: -0.771697, relative error: 6.360114e-09\n",
      "numerical: 2.210135 analytic: 2.210135, relative error: 1.169512e-08\n",
      "numerical: 2.327235 analytic: 2.327235, relative error: 2.349958e-08\n",
      "numerical: -0.598472 analytic: -0.598472, relative error: 9.158061e-08\n",
      "numerical: 2.872394 analytic: 2.872394, relative error: 8.260661e-09\n",
      "numerical: 1.334831 analytic: 1.334831, relative error: 3.745311e-08\n",
      "numerical: -1.560864 analytic: -1.560864, relative error: 2.467611e-08\n",
      "numerical: 0.331589 analytic: 0.331589, relative error: 1.670723e-07\n",
      "numerical: 1.853824 analytic: 1.853824, relative error: 1.424900e-08\n",
      "numerical: 0.505484 analytic: 0.505484, relative error: 5.000538e-08\n",
      "numerical: -0.510444 analytic: -0.510444, relative error: 6.763082e-09\n",
      "numerical: 0.435256 analytic: 0.435256, relative error: 8.962523e-08\n",
      "numerical: 1.621807 analytic: 1.621807, relative error: 2.256248e-08\n",
      "numerical: 2.061463 analytic: 2.061463, relative error: 5.542018e-09\n",
      "numerical: 0.136602 analytic: 0.136602, relative error: 1.197121e-07\n"
     ]
    }
   ],
   "source": [
    "# Complete the implementation of softmax_loss_naive and implement a (naive)\n",
    "# version of the gradient that uses nested loops.\n",
    "loss, grad = softmax_loss_naive(W, X_dev, y_dev, 0.0)\n",
    "\n",
    "# As we did for the SVM, use numeric gradient checking as a debugging tool.\n",
    "# The numeric gradient should be close to the analytic gradient.\n",
    "from cs231n.gradient_check import grad_check_sparse\n",
    "f = lambda w: softmax_loss_naive(w, X_dev, y_dev, 0.0)[0]\n",
    "grad_numerical = grad_check_sparse(f, W, grad, 10)\n",
    "\n",
    "# similar to SVM case, do another gradient check with regularization\n",
    "loss, grad = softmax_loss_naive(W, X_dev, y_dev, 1e2)\n",
    "f = lambda w: softmax_loss_naive(w, X_dev, y_dev, 1e2)[0]\n",
    "grad_numerical = grad_check_sparse(f, W, grad, 10)"
   ]
  },
  {
   "cell_type": "code",
   "execution_count": 184,
   "metadata": {
    "collapsed": false
   },
   "outputs": [
    {
     "name": "stdout",
     "output_type": "stream",
     "text": [
      "naive loss: 2.389728e+00 computed in 0.217000s\n",
      "vectorized loss: 2.389728e+00 computed in 0.021000s\n",
      "Loss difference: 0.000000\n",
      "Gradient difference: 0.000000\n"
     ]
    }
   ],
   "source": [
    "# Now that we have a naive implementation of the softmax loss function and its gradient,\n",
    "# implement a vectorized version in softmax_loss_vectorized.\n",
    "# The two versions should compute the same results, but the vectorized version should be\n",
    "# much faster.\n",
    "tic = time.time()\n",
    "loss_naive, grad_naive = softmax_loss_naive(W, X_dev, y_dev, 0.00001)\n",
    "toc = time.time()\n",
    "print 'naive loss: %e computed in %fs' % (loss_naive, toc - tic)\n",
    "\n",
    "from cs231n.classifiers.softmax import softmax_loss_vectorized\n",
    "tic = time.time()\n",
    "loss_vectorized, grad_vectorized = softmax_loss_vectorized(W, X_dev, y_dev, 0.00001)\n",
    "toc = time.time()\n",
    "print 'vectorized loss: %e computed in %fs' % (loss_vectorized, toc - tic)\n",
    "\n",
    "# As we did for the SVM, we use the Frobenius norm to compare the two versions\n",
    "# of the gradient.\n",
    "grad_difference = np.linalg.norm(grad_naive - grad_vectorized, ord='fro')\n",
    "print 'Loss difference: %f' % np.abs(loss_naive - loss_vectorized)\n",
    "print 'Gradient difference: %f' % grad_difference"
   ]
  },
  {
   "cell_type": "code",
   "execution_count": 186,
   "metadata": {
    "collapsed": false
   },
   "outputs": [
    {
     "name": "stdout",
     "output_type": "stream",
     "text": [
      "lr 1.000000e-07 reg 5.000000e+04 train accuracy: 0.133959 val accuracy: 0.133959\n",
      "lr 1.000000e-07 reg 1.115556e+07 train accuracy: 0.209429 val accuracy: 0.209429\n",
      "lr 1.000000e-07 reg 2.226111e+07 train accuracy: 0.097347 val accuracy: 0.097347\n",
      "lr 1.000000e-07 reg 3.336667e+07 train accuracy: 0.112551 val accuracy: 0.112551\n",
      "lr 1.000000e-07 reg 4.447222e+07 train accuracy: 0.138857 val accuracy: 0.138857\n",
      "lr 1.000000e-07 reg 5.557778e+07 train accuracy: 0.096816 val accuracy: 0.096816\n",
      "lr 1.000000e-07 reg 6.668333e+07 train accuracy: 0.108163 val accuracy: 0.108163\n",
      "lr 1.000000e-07 reg 7.778889e+07 train accuracy: 0.110449 val accuracy: 0.110449\n",
      "lr 1.000000e-07 reg 8.889444e+07 train accuracy: 0.083102 val accuracy: 0.083102\n",
      "lr 1.000000e-07 reg 1.000000e+08 train accuracy: 0.088163 val accuracy: 0.088163\n",
      "lr 1.444444e-07 reg 5.000000e+04 train accuracy: 0.169653 val accuracy: 0.169653\n",
      "lr 1.444444e-07 reg 1.115556e+07 train accuracy: 0.178143 val accuracy: 0.178143\n",
      "lr 1.444444e-07 reg 2.226111e+07 train accuracy: 0.085327 val accuracy: 0.085327\n",
      "lr 1.444444e-07 reg 3.336667e+07 train accuracy: 0.091735 val accuracy: 0.091735\n",
      "lr 1.444444e-07 reg 4.447222e+07 train accuracy: 0.097551 val accuracy: 0.097551\n",
      "lr 1.444444e-07 reg 5.557778e+07 train accuracy: 0.092592 val accuracy: 0.092592\n",
      "lr 1.444444e-07 reg 6.668333e+07 train accuracy: 0.089000 val accuracy: 0.089000\n",
      "lr 1.444444e-07 reg 7.778889e+07 train accuracy: 0.101469 val accuracy: 0.101469\n",
      "lr 1.444444e-07 reg 8.889444e+07 train accuracy: 0.090224 val accuracy: 0.090224\n",
      "lr 1.444444e-07 reg 1.000000e+08 train accuracy: 0.099755 val accuracy: 0.099755\n",
      "lr 1.888889e-07 reg 5.000000e+04 train accuracy: 0.194449 val accuracy: 0.194449\n",
      "lr 1.888889e-07 reg 1.115556e+07 train accuracy: 0.089082 val accuracy: 0.089082\n",
      "lr 1.888889e-07 reg 2.226111e+07 train accuracy: 0.121449 val accuracy: 0.121449\n",
      "lr 1.888889e-07 reg 3.336667e+07 train accuracy: 0.101531 val accuracy: 0.101531\n",
      "lr 1.888889e-07 reg 4.447222e+07 train accuracy: 0.087653 val accuracy: 0.087653\n",
      "lr 1.888889e-07 reg 5.557778e+07 train accuracy: 0.089429 val accuracy: 0.089429\n",
      "lr 1.888889e-07 reg 6.668333e+07 train accuracy: 0.089388 val accuracy: 0.089388\n",
      "lr 1.888889e-07 reg 7.778889e+07 train accuracy: 0.104388 val accuracy: 0.104388\n",
      "lr 1.888889e-07 reg 8.889444e+07 train accuracy: 0.079306 val accuracy: 0.079306\n",
      "lr 1.888889e-07 reg 1.000000e+08 train accuracy: 0.123898 val accuracy: 0.123898\n",
      "lr 2.333333e-07 reg 5.000000e+04 train accuracy: 0.203347 val accuracy: 0.203347\n",
      "lr 2.333333e-07 reg 1.115556e+07 train accuracy: 0.118796 val accuracy: 0.118796\n",
      "lr 2.333333e-07 reg 2.226111e+07 train accuracy: 0.089286 val accuracy: 0.089286\n",
      "lr 2.333333e-07 reg 3.336667e+07 train accuracy: 0.101286 val accuracy: 0.101286\n",
      "lr 2.333333e-07 reg 4.447222e+07 train accuracy: 0.093612 val accuracy: 0.093612\n",
      "lr 2.333333e-07 reg 5.557778e+07 train accuracy: 0.094429 val accuracy: 0.094429\n",
      "lr 2.333333e-07 reg 6.668333e+07 train accuracy: 0.108367 val accuracy: 0.108367\n",
      "lr 2.333333e-07 reg 7.778889e+07 train accuracy: 0.070714 val accuracy: 0.070714\n",
      "lr 2.333333e-07 reg 8.889444e+07 train accuracy: 0.111694 val accuracy: 0.111694\n",
      "lr 2.333333e-07 reg 1.000000e+08 train accuracy: 0.115898 val accuracy: 0.115898\n",
      "lr 2.777778e-07 reg 5.000000e+04 train accuracy: 0.243163 val accuracy: 0.243163\n",
      "lr 2.777778e-07 reg 1.115556e+07 train accuracy: 0.104469 val accuracy: 0.104469\n",
      "lr 2.777778e-07 reg 2.226111e+07 train accuracy: 0.064735 val accuracy: 0.064735\n",
      "lr 2.777778e-07 reg 3.336667e+07 train accuracy: 0.102245 val accuracy: 0.102245\n",
      "lr 2.777778e-07 reg 4.447222e+07 train accuracy: 0.120082 val accuracy: 0.120082\n",
      "lr 2.777778e-07 reg 5.557778e+07 train accuracy: 0.097735 val accuracy: 0.097735\n",
      "lr 2.777778e-07 reg 6.668333e+07 train accuracy: 0.090327 val accuracy: 0.090327\n",
      "lr 2.777778e-07 reg 7.778889e+07 train accuracy: 0.100367 val accuracy: 0.100367\n",
      "lr 2.777778e-07 reg 8.889444e+07 train accuracy: 0.097306 val accuracy: 0.097306\n",
      "lr 2.777778e-07 reg 1.000000e+08 train accuracy: 0.104245 val accuracy: 0.104245\n",
      "lr 3.222222e-07 reg 5.000000e+04 train accuracy: 0.252327 val accuracy: 0.252327\n",
      "lr 3.222222e-07 reg 1.115556e+07 train accuracy: 0.083449 val accuracy: 0.083449\n",
      "lr 3.222222e-07 reg 2.226111e+07 train accuracy: 0.099224 val accuracy: 0.099224\n",
      "lr 3.222222e-07 reg 3.336667e+07 train accuracy: 0.103796 val accuracy: 0.103796\n",
      "lr 3.222222e-07 reg 4.447222e+07 train accuracy: 0.097163 val accuracy: 0.097163\n",
      "lr 3.222222e-07 reg 5.557778e+07 train accuracy: 0.123061 val accuracy: 0.123061\n",
      "lr 3.222222e-07 reg 6.668333e+07 train accuracy: 0.110041 val accuracy: 0.110041\n",
      "lr 3.222222e-07 reg 7.778889e+07 train accuracy: 0.100388 val accuracy: 0.100388\n",
      "lr 3.222222e-07 reg 8.889444e+07 train accuracy: 0.100796 val accuracy: 0.100796\n",
      "lr 3.222222e-07 reg 1.000000e+08 train accuracy: 0.110184 val accuracy: 0.110184\n",
      "lr 3.666667e-07 reg 5.000000e+04 train accuracy: 0.282755 val accuracy: 0.282755\n",
      "lr 3.666667e-07 reg 1.115556e+07 train accuracy: 0.113490 val accuracy: 0.113490\n",
      "lr 3.666667e-07 reg 2.226111e+07 train accuracy: 0.080020 val accuracy: 0.080020\n",
      "lr 3.666667e-07 reg 3.336667e+07 train accuracy: 0.120612 val accuracy: 0.120612\n",
      "lr 3.666667e-07 reg 4.447222e+07 train accuracy: 0.080816 val accuracy: 0.080816\n",
      "lr 3.666667e-07 reg 5.557778e+07 train accuracy: 0.093633 val accuracy: 0.093633\n",
      "lr 3.666667e-07 reg 6.668333e+07 train accuracy: 0.087306 val accuracy: 0.087306\n",
      "lr 3.666667e-07 reg 7.778889e+07 train accuracy: 0.074776 val accuracy: 0.074776\n",
      "lr 3.666667e-07 reg 8.889444e+07 train accuracy: 0.088327 val accuracy: 0.088327\n",
      "lr 3.666667e-07 reg 1.000000e+08 train accuracy: 0.109510 val accuracy: 0.109510\n",
      "lr 4.111111e-07 reg 5.000000e+04 train accuracy: 0.282816 val accuracy: 0.282816\n",
      "lr 4.111111e-07 reg 1.115556e+07 train accuracy: 0.102694 val accuracy: 0.102694\n",
      "lr 4.111111e-07 reg 2.226111e+07 train accuracy: 0.081265 val accuracy: 0.081265\n",
      "lr 4.111111e-07 reg 3.336667e+07 train accuracy: 0.102490 val accuracy: 0.102490\n",
      "lr 4.111111e-07 reg 4.447222e+07 train accuracy: 0.100449 val accuracy: 0.100449\n",
      "lr 4.111111e-07 reg 5.557778e+07 train accuracy: 0.084592 val accuracy: 0.084592\n",
      "lr 4.111111e-07 reg 6.668333e+07 train accuracy: 0.102633 val accuracy: 0.102633\n",
      "lr 4.111111e-07 reg 7.778889e+07 train accuracy: 0.095490 val accuracy: 0.095490\n",
      "lr 4.111111e-07 reg 8.889444e+07 train accuracy: 0.089408 val accuracy: 0.089408\n",
      "lr 4.111111e-07 reg 1.000000e+08 train accuracy: 0.095102 val accuracy: 0.095102\n",
      "lr 4.555556e-07 reg 5.000000e+04 train accuracy: 0.305673 val accuracy: 0.305673\n",
      "lr 4.555556e-07 reg 1.115556e+07 train accuracy: 0.089551 val accuracy: 0.089551\n",
      "lr 4.555556e-07 reg 2.226111e+07 train accuracy: 0.109449 val accuracy: 0.109449\n",
      "lr 4.555556e-07 reg 3.336667e+07 train accuracy: 0.115592 val accuracy: 0.115592\n",
      "lr 4.555556e-07 reg 4.447222e+07 train accuracy: 0.082633 val accuracy: 0.082633\n",
      "lr 4.555556e-07 reg 5.557778e+07 train accuracy: 0.111714 val accuracy: 0.111714\n",
      "lr 4.555556e-07 reg 6.668333e+07 train accuracy: 0.082265 val accuracy: 0.082265\n",
      "lr 4.555556e-07 reg 7.778889e+07 train accuracy: 0.074673 val accuracy: 0.074673\n",
      "lr 4.555556e-07 reg 8.889444e+07 train accuracy: 0.088673 val accuracy: 0.088673\n",
      "lr 4.555556e-07 reg 1.000000e+08 train accuracy: 0.091306 val accuracy: 0.091306\n",
      "lr 5.000000e-07 reg 5.000000e+04 train accuracy: 0.308408 val accuracy: 0.308408\n",
      "lr 5.000000e-07 reg 1.115556e+07 train accuracy: 0.099735 val accuracy: 0.099735\n",
      "lr 5.000000e-07 reg 2.226111e+07 train accuracy: 0.104184 val accuracy: 0.104184\n",
      "lr 5.000000e-07 reg 3.336667e+07 train accuracy: 0.097102 val accuracy: 0.097102\n",
      "lr 5.000000e-07 reg 4.447222e+07 train accuracy: 0.091959 val accuracy: 0.091959\n",
      "lr 5.000000e-07 reg 5.557778e+07 train accuracy: 0.097633 val accuracy: 0.097633\n",
      "lr 5.000000e-07 reg 6.668333e+07 train accuracy: 0.085041 val accuracy: 0.085041\n",
      "lr 5.000000e-07 reg 7.778889e+07 train accuracy: 0.076857 val accuracy: 0.076857\n",
      "lr 5.000000e-07 reg 8.889444e+07 train accuracy: 0.079286 val accuracy: 0.079286\n",
      "lr 5.000000e-07 reg 1.000000e+08 train accuracy: 0.122837 val accuracy: 0.122837\n",
      "best validation accuracy achieved during cross-validation: 0.308408\n"
     ]
    }
   ],
   "source": [
    "# Use the validation set to tune hyperparameters (regularization strength and\n",
    "# learning rate). You should experiment with different ranges for the learning\n",
    "# rates and regularization strengths; if you are careful you should be able to\n",
    "# get a classification accuracy of over 0.35 on the validation set.\n",
    "from cs231n.classifiers import Softmax\n",
    "results = {}\n",
    "best_val = -1\n",
    "best_softmax = None\n",
    "learning_rates = [1e-7, 5e-7]\n",
    "regularization_strengths = [5e4, 1e8]\n",
    "\n",
    "################################################################################\n",
    "# TODO:                                                                        #\n",
    "# Use the validation set to set the learning rate and regularization strength. #\n",
    "# This should be identical to the validation that you did for the SVM; save    #\n",
    "# the best trained softmax classifer in best_softmax.                          #\n",
    "################################################################################\n",
    "\n",
    "for lr in np.linspace(learning_rates[0], learning_rates[1], 10): \n",
    "    for reg in np.linspace(regularization_strengths[0], regularization_strengths[1], 10):\n",
    "        softMax = Softmax()\n",
    "        loss_hist = softMax.train(X_train, y_train, learning_rate=lr, reg=reg,\n",
    "                          num_iters=100)\n",
    "        y_train_pred = softMax.predict(X_train)\n",
    "        train_accuracy = np.mean(y_train == y_train_pred)\n",
    "        y_val_pred = softMax.predict(X_val)\n",
    "        val_accuracy = np.mean(y_train == y_train_pred)\n",
    "\n",
    "        results[(lr, reg)] = (train_accuracy, val_accuracy)\n",
    "        if val_accuracy > best_val:\n",
    "            best_val = val_accuracy\n",
    "            best_softmax = softMax\n",
    "################################################################################\n",
    "#                              END OF YOUR CODE                                #\n",
    "################################################################################\n",
    "    \n",
    "# Print out results.\n",
    "for lr, reg in sorted(results):\n",
    "    train_accuracy, val_accuracy = results[(lr, reg)]\n",
    "    print 'lr %e reg %e train accuracy: %f val accuracy: %f' % (\n",
    "                lr, reg, train_accuracy, val_accuracy)\n",
    "    \n",
    "print 'best validation accuracy achieved during cross-validation: %f' % best_val"
   ]
  },
  {
   "cell_type": "code",
   "execution_count": 189,
   "metadata": {
    "collapsed": false
   },
   "outputs": [
    {
     "name": "stdout",
     "output_type": "stream",
     "text": [
      "softmax on raw pixels final test set accuracy: 0.317000\n"
     ]
    }
   ],
   "source": [
    "# evaluate on test set\n",
    "# Evaluate the best softmax on test set\n",
    "y_test_pred = best_softmax.predict(X_test)\n",
    "test_accuracy = np.mean(y_test == y_test_pred)\n",
    "print 'softmax on raw pixels final test set accuracy: %f' % (test_accuracy, )"
   ]
  },
  {
   "cell_type": "code",
   "execution_count": 190,
   "metadata": {
    "collapsed": false
   },
   "outputs": [
    {
     "data": {
      "image/png": "[encoded data removed]",
      "text/plain": [
       "<matplotlib.figure.Figure at 0x7d97d30>"
      ]
     },
     "metadata": {},
     "output_type": "display_data"
    }
   ],
   "source": [
    "# Visualize the learned weights for each class\n",
    "w = best_softmax.W[:-1,:] # strip out the bias\n",
    "w = w.reshape(32, 32, 3, 10)\n",
    "\n",
    "w_min, w_max = np.min(w), np.max(w)\n",
    "\n",
    "classes = ['plane', 'car', 'bird', 'cat', 'deer', 'dog', 'frog', 'horse', 'ship', 'truck']\n",
    "for i in xrange(10):\n",
    "  plt.subplot(2, 5, i + 1)\n",
    "  \n",
    "  # Rescale the weights to be between 0 and 255\n",
    "  wimg = 255.0 * (w[:, :, :, i].squeeze() - w_min) / (w_max - w_min)\n",
    "  plt.imshow(wimg.astype('uint8'))\n",
    "  plt.axis('off')\n",
    "  plt.title(classes[i])"
   ]
  }
 ],
 "metadata": {
  "kernelspec": {
   "display_name": "Python 2",
   "language": "python",
   "name": "python2"
  },
  "language_info": {
   "codemirror_mode": {
    "name": "ipython",
    "version": 2
   },
   "file_extension": ".py",
   "mimetype": "text/x-python",
   "name": "python",
   "nbconvert_exporter": "python",
   "pygments_lexer": "ipython2",
   "version": "2.7.11"
  }
 },
 "nbformat": 4,
 "nbformat_minor": 0
}
